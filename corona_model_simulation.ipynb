{
 "cells": [
  {
   "cell_type": "markdown",
   "metadata": {},
   "source": [
    "## Model simuleren: populatiemodel"
   ]
  },
  {
   "cell_type": "markdown",
   "metadata": {},
   "source": [
    "$$\\frac{dS}{dt}= -\\beta SI$$\n",
    "$$\\frac{dI}{dt}= \\beta SI - \\gamma I$$\n",
    "$$\\frac{dR}{dt}= \\gamma I$$"
   ]
  },
  {
   "cell_type": "code",
   "execution_count": 1,
   "metadata": {
    "ExecuteTime": {
     "end_time": "2020-03-17T09:53:01.262189Z",
     "start_time": "2020-03-17T09:53:01.009865Z"
    }
   },
   "outputs": [],
   "source": [
    "%matplotlib inline"
   ]
  },
  {
   "cell_type": "code",
   "execution_count": 2,
   "metadata": {
    "ExecuteTime": {
     "end_time": "2020-03-17T09:53:01.796875Z",
     "start_time": "2020-03-17T09:53:01.263188Z"
    }
   },
   "outputs": [],
   "source": [
    "# Importeren van functionaliteiten\n",
    "import matplotlib.pyplot as plt\n",
    "#import seaborn as sns\n",
    "import numpy as np\n",
    "import scipy as sp\n",
    "import pandas as pd\n",
    "from IPython.display import Image\n",
    "from ipywidgets import interact, fixed, ToggleButtons, IntSlider, FloatSlider\n",
    "%load_ext autoreload\n",
    "%autoreload 1\n",
    "%aimport corona\n",
    "#from populatie import populatie_model   # Importeren van de populatie functies"
   ]
  },
  {
   "cell_type": "raw",
   "metadata": {},
   "source": [
    "#### Praktische info\n",
    "Functiedefinitie:\n",
    "\n",
    "    corona.populatie_model(tijdstappen,  S_0, I_0, R_0, beta, gamma)\n",
    "\n",
    "Bij de standaard situatie voor onze case werden volgende waarden voor initiele condities, parameters en inputs gebruikt:\n",
    "\n",
    "    corona.populatie_model(np.arange(0, 22, 0.1), 6000, 0, 0, 0.00002856, 0.29819303) "
   ]
  },
  {
   "cell_type": "markdown",
   "metadata": {},
   "source": [
    "## Model simuleren"
   ]
  },
  {
   "cell_type": "code",
   "execution_count": 3,
   "metadata": {
    "ExecuteTime": {
     "end_time": "2020-03-17T09:53:02.152665Z",
     "start_time": "2020-03-17T09:53:01.993949Z"
    }
   },
   "outputs": [
    {
     "data": {
      "image/png": "[encoded data removed]",
      "text/plain": [
       "<Figure size 432x288 with 1 Axes>"
      ]
     },
     "metadata": {
      "needs_background": "light"
     },
     "output_type": "display_data"
    }
   ],
   "source": [
    "model = corona.populatie_model(np.arange(0., 90, 0.1), 6000, 1, 0, 0.0002856, 0.2981930)"
   ]
  },
  {
   "cell_type": "markdown",
   "metadata": {},
   "source": [
    "## Impact parameters (deel 1)"
   ]
  },
  {
   "cell_type": "code",
   "execution_count": 4,
   "metadata": {
    "ExecuteTime": {
     "end_time": "2020-03-17T09:53:02.854849Z",
     "start_time": "2020-03-17T09:53:02.708643Z"
    }
   },
   "outputs": [
    {
     "data": {
      "application/vnd.jupyter.widget-view+json": {
       "model_id": "e63dd3de23084428a0a4f427a234b006",
       "version_major": 2,
       "version_minor": 0
      },
      "text/plain": [
       "interactive(children=(FloatSlider(value=0.0001, continuous_update=False, description='beta', max=0.0005, min=1…"
      ]
     },
     "metadata": {},
     "output_type": "display_data"
    }
   ],
   "source": [
    "interact(corona.populatie_model, tijdstappen=fixed(np.arange(0., 90, 0.1)), S_0=fixed(6000), \n",
    "         I_0=fixed(1), R_0=fixed(0),\n",
    "         beta=FloatSlider(value=1e-4, min=1e-5, max=5e-4, step=1e-5,\n",
    "                          continuous_update=False, readout_format='.2e'),\n",
    "         gamma=FloatSlider(value=0.2, min=0, max=0.4, step=0.01,\n",
    "                          continuous_update=False, readout_format='.2e'),\n",
    "         returnDataFrame=fixed(False));"
   ]
  },
  {
   "cell_type": "markdown",
   "metadata": {},
   "source": [
    "sensitivity"
   ]
  },
  {
   "cell_type": "code",
   "execution_count": 5,
   "metadata": {
    "ExecuteTime": {
     "end_time": "2020-03-17T07:24:36.194755Z",
     "start_time": "2020-03-17T07:24:36.004272Z"
    }
   },
   "outputs": [
    {
     "data": {
      "application/vnd.jupyter.widget-view+json": {
       "model_id": "503c290e760d420aaa61fa675f0c5fa3",
       "version_major": 2,
       "version_minor": 0
      },
      "text/plain": [
       "interactive(children=(ToggleButtons(description='parameternaam', options=('beta', 'gamma'), value='beta'), Int…"
      ]
     },
     "metadata": {},
     "output_type": "display_data"
    },
    {
     "data": {
      "text/plain": [
       "<function corona.sensitiviteit(tijdstappen, init, varnames, f, parameternaam, log_perturbatie=-4, soort='absoluut', **kwargs)>"
      ]
     },
     "execution_count": 5,
     "metadata": {},
     "output_type": "execute_result"
    }
   ],
   "source": [
    "interact(corona.sensitiviteit,\n",
    "    tijdstappen=fixed(np.arange(0., 90, 0.1)), # tijdstappen\n",
    "    init=fixed([6000, 1, 0]), # initiële condities\n",
    "    varnames=fixed(['S','I', 'R']), # namen variabelen\n",
    "    f=fixed(corona.model_afgeleiden), # naam functie afgeleiden\n",
    "    parameternaam=ToggleButtons(options=['beta', 'gamma']),\n",
    "    log_perturbatie = IntSlider(value=-4, min=-15, max=-1, step=1, continuous_update=False),\n",
    "    soort=ToggleButtons(options=[\n",
    "            'absolute sensitiviteit', 'relatieve sensitiviteit parameter',\n",
    "            'relatieve sensitiviteit variabele','relatieve totale sensitiviteit']),\n",
    "    # vanaf hier: functie specifieke parameters\n",
    "    beta=fixed(0.0001), gamma=fixed(0.1))"
   ]
  },
  {
   "cell_type": "code",
   "execution_count": null,
   "metadata": {},
   "outputs": [],
   "source": []
  }
 ],
 "metadata": {
  "@webio": {
   "lastCommId": null,
   "lastKernelId": null
  },
  "hide_input": false,
  "kernelspec": {
   "display_name": "Python 3",
   "language": "python",
   "name": "python3"
  },
  "language_info": {
   "codemirror_mode": {
    "name": "ipython",
    "version": 3
   },
   "file_extension": ".py",
   "mimetype": "text/x-python",
   "name": "python",
   "nbconvert_exporter": "python",
   "pygments_lexer": "ipython3",
   "version": "3.7.4"
  },
  "toc": {
   "base_numbering": 1,
   "nav_menu": {},
   "number_sections": true,
   "sideBar": true,
   "skip_h1_title": false,
   "title_cell": "Table of Contents",
   "title_sidebar": "Contents",
   "toc_cell": false,
   "toc_position": {},
   "toc_section_display": true,
   "toc_window_display": false
  },
  "varInspector": {
   "cols": {
    "lenName": 16,
    "lenType": 16,
    "lenVar": 40
   },
   "kernels_config": {
    "python": {
     "delete_cmd_postfix": "",
     "delete_cmd_prefix": "del ",
     "library": "var_list.py",
     "varRefreshCmd": "print(var_dic_list())"
    },
    "r": {
     "delete_cmd_postfix": ") ",
     "delete_cmd_prefix": "rm(",
     "library": "var_list.r",
     "varRefreshCmd": "cat(var_dic_list()) "
    }
   },
   "types_to_exclude": [
    "module",
    "function",
    "builtin_function_or_method",
    "instance",
    "_Feature"
   ],
   "window_display": true
  }
 },
 "nbformat": 4,
 "nbformat_minor": 1
}
