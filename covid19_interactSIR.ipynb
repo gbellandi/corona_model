{
 "cells": [
  {
   "cell_type": "markdown",
   "metadata": {},
   "source": [
    "Click the button above to load the interactive widgets"
   ]
  },
  {
   "cell_type": "markdown",
   "metadata": {},
   "source": [
    "# SIR model"
   ]
  },
  {
   "cell_type": "markdown",
   "metadata": {},
   "source": [
    "Try to fit the SIR model to the cases of a specific country and compare it to the logistic model"
   ]
  },
  {
   "cell_type": "code",
   "execution_count": 11,
   "metadata": {
    "ExecuteTime": {
     "end_time": "2020-04-27T07:16:05.496524Z",
     "start_time": "2020-04-27T07:16:04.989366Z"
    }
   },
   "outputs": [
    {
     "data": {
      "application/vnd.jupyter.widget-view+json": {
       "model_id": "30a8b3dd237e49aab2f0a3e767f52281",
       "version_major": 2,
       "version_minor": 0
      },
      "text/plain": [
       "interactive(children=(FloatSlider(value=500000.0, continuous_update=False, description='Affected population', …"
      ]
     },
     "metadata": {},
     "output_type": "display_data"
    }
   ],
   "source": [
    "interact(SIRmodel_logbeta2, \n",
    "         timesteps=fixed(np.arange(0., 1000, 1)), country = Dropdown(options=list(Confirmed.columns), value='US'), \n",
    "         measured_cases = fixed(Confirmed),\n",
    "         S_0=FloatSlider(value=500000, min=Confirmed.max().mean(), max=5*Confirmed.max().max(), step=1000,\n",
    "                           continuous_update=False, description='Affected population', style = {'description_width': 'initial'}, \n",
    "                           layout=Layout(width='50%', height='30px')), \n",
    "         I_0=fixed(1), R_0=fixed(0),\n",
    "         log10_beta=FloatSlider(value=-6.3, min=-8, max=-5, step=0.001, continuous_update=True, readout_format='.2e',\n",
    "                               description='log10(infection rate)', style = {'description_width': 'initial'}, \n",
    "                                layout=Layout(width='50%', height='30px')),\n",
    "         gamma=FloatSlider(value=0.06, min=0, max=0.06, step=0.001, description='Recovery rate', style = {'description_width': 'initial'}, \n",
    "                           layout=Layout(width='50%', height='30px')),          \n",
    "         continuous_update=False, readout_format='.2e', returnDataFrame=fixed(False), plotFig=fixed(True));"
   ]
  },
  {
   "cell_type": "markdown",
   "metadata": {},
   "source": [
    "Below you can find the code"
   ]
  },
  {
   "cell_type": "markdown",
   "metadata": {},
   "source": [
    "# Load modules"
   ]
  },
  {
   "cell_type": "code",
   "execution_count": 1,
   "metadata": {
    "ExecuteTime": {
     "end_time": "2020-04-27T07:15:50.773844Z",
     "start_time": "2020-04-27T07:15:48.675007Z"
    }
   },
   "outputs": [],
   "source": [
    "import pandas as pd\n",
    "import numpy as np\n",
    "from scipy.integrate import odeint\n",
    "import matplotlib.pyplot as plt\n",
    "# from sklearn.metrics import mean_squared_error\n",
    "from scipy.optimize import curve_fit, fsolve\n",
    "\n",
    "from IPython.display import Image\n",
    "from ipywidgets import interact, fixed, ToggleButtons, IntSlider, FloatSlider, Dropdown, SelectMultiple, Layout\n",
    "\n",
    "# from pandas.tseries.offsets import Week\n",
    "%matplotlib inline"
   ]
  },
  {
   "cell_type": "markdown",
   "metadata": {},
   "source": [
    "<b> Preface </b>\n",
    "    \n",
    "    Here are being condensed few simple models and data visualization tools that capture my attention in literature. The idea is to play around with it and understand how important is to limit social contact in this period, and also the importance of modelling for understanding and timely actions."
   ]
  },
  {
   "cell_type": "markdown",
   "metadata": {},
   "source": [
    "# Load data from JHU"
   ]
  },
  {
   "cell_type": "code",
   "execution_count": 2,
   "metadata": {
    "ExecuteTime": {
     "end_time": "2020-04-27T07:15:50.785811Z",
     "start_time": "2020-04-27T07:15:50.776833Z"
    }
   },
   "outputs": [],
   "source": [
    "def loadData(fileName):\n",
    "    data = pd.read_csv(baseURL + fileName) \\\n",
    "             .drop(['Lat', 'Long'], axis=1) #\\\n",
    "#              .melt(id_vars=['Province/State', 'Country/Region'], \n",
    "#                  var_name='date', value_name=columnName) \\\n",
    "#              .astype({'date':'datetime64[ns]', columnName:'Int64'}, \n",
    "#                  errors='ignore')\n",
    "    data['Province/State'].fillna('<all>', inplace=True)\n",
    "#     data[columnName].fillna(0, inplace=True)\n",
    "    return data"
   ]
  },
  {
   "cell_type": "code",
   "execution_count": 3,
   "metadata": {
    "ExecuteTime": {
     "end_time": "2020-04-27T07:15:50.795784Z",
     "start_time": "2020-04-27T07:15:50.790797Z"
    }
   },
   "outputs": [],
   "source": [
    "baseURL = \"https://raw.githubusercontent.com/CSSEGISandData/COVID-19/master/csse_covid_19_data/csse_covid_19_time_series/\""
   ]
  },
  {
   "cell_type": "code",
   "execution_count": 4,
   "metadata": {
    "ExecuteTime": {
     "end_time": "2020-04-27T07:15:51.259042Z",
     "start_time": "2020-04-27T07:15:50.799773Z"
    }
   },
   "outputs": [],
   "source": [
    "Confirmed = loadData(\"time_series_covid19_confirmed_global.csv\")"
   ]
  },
  {
   "cell_type": "markdown",
   "metadata": {},
   "source": [
    "# Structure dataset"
   ]
  },
  {
   "cell_type": "code",
   "execution_count": 5,
   "metadata": {
    "ExecuteTime": {
     "end_time": "2020-04-27T07:15:52.233323Z",
     "start_time": "2020-04-27T07:15:52.181462Z"
    }
   },
   "outputs": [],
   "source": [
    "# grouping by country\n",
    "Confirmed = Confirmed.groupby(['Country/Region']).sum()"
   ]
  },
  {
   "cell_type": "code",
   "execution_count": 6,
   "metadata": {
    "ExecuteTime": {
     "end_time": "2020-04-27T07:15:52.416797Z",
     "start_time": "2020-04-27T07:15:52.412800Z"
    }
   },
   "outputs": [],
   "source": [
    "Confirmed = Confirmed.T"
   ]
  },
  {
   "cell_type": "code",
   "execution_count": 7,
   "metadata": {
    "ExecuteTime": {
     "end_time": "2020-04-27T07:15:52.949243Z",
     "start_time": "2020-04-27T07:15:52.930292Z"
    }
   },
   "outputs": [],
   "source": [
    "Confirmed.index = pd.to_datetime(Confirmed.index)"
   ]
  },
  {
   "cell_type": "markdown",
   "metadata": {},
   "source": [
    "# SIR Model definition"
   ]
  },
  {
   "cell_type": "markdown",
   "metadata": {},
   "source": [
    "Inspired by https://www.linkedin.com/pulse/covid-19-from-model-prediction-predictive-control-ingmar-nopens/"
   ]
  },
  {
   "cell_type": "code",
   "execution_count": 8,
   "metadata": {
    "ExecuteTime": {
     "end_time": "2020-04-27T07:15:54.264640Z",
     "start_time": "2020-04-27T07:15:54.258655Z"
    }
   },
   "outputs": [],
   "source": [
    "def model_der(variables, t, beta, gamma):\n",
    "\n",
    "    S = variables[0]\n",
    "    I = variables[1]\n",
    "    R = variables[2]\n",
    "    \n",
    "    S_new = -beta*I*S \n",
    "    I_new = beta*I*S - gamma*I\n",
    "    R_new = gamma*I\n",
    "    return [S_new, I_new, R_new]"
   ]
  },
  {
   "cell_type": "code",
   "execution_count": 9,
   "metadata": {
    "ExecuteTime": {
     "end_time": "2020-04-27T07:15:55.010654Z",
     "start_time": "2020-04-27T07:15:55.001669Z"
    }
   },
   "outputs": [],
   "source": [
    "def SIRmodel_logbeta2(timesteps, S_0, I_0, R_0, log10_beta, gamma, measured_cases, country, returnDataFrame=True, plotFig=True):\n",
    "    \"\"\"\n",
    "    implementation of SIR population model\n",
    "    \n",
    "    Parameters\n",
    "    -----------\n",
    "    timesteps : np.array\n",
    "    country: string\n",
    "    log10_beta: float <0\n",
    "    gamma: float\n",
    "    \n",
    "    \"\"\"\n",
    "    \n",
    "    modeloutput = odeint(model_der, [S_0, I_0, R_0], timesteps, args=(10**(log10_beta), gamma));\n",
    "    modeloutput = pd.DataFrame(modeloutput, columns=['S','I','R'], index=timesteps)\n",
    "    \n",
    "    modeloutput.index = pd.date_range(start='1/20/2020', periods=len(timesteps))\n",
    "    \n",
    "    if plotFig:\n",
    "        fig, axes = plt.subplots(1,1, figsize=(10,8))\n",
    "        axes.set_xlabel('time')\n",
    "        axes.set_ylabel('Population')\n",
    "\n",
    "        axes.plot(measured_cases[country], 'rx')\n",
    "        axes.plot(modeloutput);\n",
    "#         measured_cases[country].plot(axes=axes)\n",
    "        \n",
    "    if returnDataFrame:\n",
    "        return modeloutput "
   ]
  },
  {
   "cell_type": "code",
   "execution_count": null,
   "metadata": {},
   "outputs": [],
   "source": []
  }
 ],
 "metadata": {
  "kernelspec": {
   "display_name": "Python 3",
   "language": "python",
   "name": "python3"
  },
  "language_info": {
   "codemirror_mode": {
    "name": "ipython",
    "version": 3
   },
   "file_extension": ".py",
   "mimetype": "text/x-python",
   "name": "python",
   "nbconvert_exporter": "python",
   "pygments_lexer": "ipython3",
   "version": "3.7.4"
  },
  "toc": {
   "base_numbering": 1,
   "nav_menu": {},
   "number_sections": true,
   "sideBar": true,
   "skip_h1_title": false,
   "title_cell": "Table of Contents",
   "title_sidebar": "Contents",
   "toc_cell": false,
   "toc_position": {},
   "toc_section_display": true,
   "toc_window_display": false
  }
 },
 "nbformat": 4,
 "nbformat_minor": 2
}
