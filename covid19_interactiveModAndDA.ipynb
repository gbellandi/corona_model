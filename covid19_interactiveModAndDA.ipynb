{
 "cells": [
  {
   "cell_type": "code",
   "execution_count": 1,
   "metadata": {
    "ExecuteTime": {
     "end_time": "2020-04-01T15:44:07.294344Z",
     "start_time": "2020-04-01T15:44:05.867366Z"
    }
   },
   "outputs": [],
   "source": [
    "import pandas as pd\n",
    "import numpy as np\n",
    "from scipy.integrate import odeint\n",
    "import matplotlib.pyplot as plt\n",
    "from IPython.display import Image\n",
    "from ipywidgets import interact, fixed, ToggleButtons, IntSlider, FloatSlider, Dropdown, SelectMultiple, Layout\n",
    "\n",
    "from datetime import datetime,timedelta\n",
    "from sklearn.metrics import mean_squared_error\n",
    "from scipy.optimize import curve_fit\n",
    "from scipy.optimize import fsolve\n",
    "\n",
    "from pandas.tseries.offsets import Week\n",
    "%matplotlib inline"
   ]
  },
  {
   "cell_type": "markdown",
   "metadata": {},
   "source": [
    "<b> Preface </b>\n",
    "    \n",
    "    Here are being condensed few simple models and data visualization tools that capture my attention in literature. The idea is to play around with it and understand how important is to limit social contact in this period, and also the importance of modelling for understanding and timely actions."
   ]
  },
  {
   "cell_type": "markdown",
   "metadata": {},
   "source": [
    "# Load data from JHU"
   ]
  },
  {
   "cell_type": "code",
   "execution_count": 2,
   "metadata": {
    "ExecuteTime": {
     "end_time": "2020-04-01T15:44:09.845286Z",
     "start_time": "2020-04-01T15:44:09.841267Z"
    }
   },
   "outputs": [],
   "source": [
    "def loadData(fileName):\n",
    "    data = pd.read_csv(baseURL + fileName) \\\n",
    "             .drop(['Lat', 'Long'], axis=1) #\\\n",
    "#              .melt(id_vars=['Province/State', 'Country/Region'], \n",
    "#                  var_name='date', value_name=columnName) \\\n",
    "#              .astype({'date':'datetime64[ns]', columnName:'Int64'}, \n",
    "#                  errors='ignore')\n",
    "    data['Province/State'].fillna('<all>', inplace=True)\n",
    "#     data[columnName].fillna(0, inplace=True)\n",
    "    return data"
   ]
  },
  {
   "cell_type": "code",
   "execution_count": 3,
   "metadata": {
    "ExecuteTime": {
     "end_time": "2020-04-01T15:44:10.303510Z",
     "start_time": "2020-04-01T15:44:10.300485Z"
    }
   },
   "outputs": [],
   "source": [
    "baseURL = \"https://raw.githubusercontent.com/CSSEGISandData/COVID-19/master/csse_covid_19_data/csse_covid_19_time_series/\""
   ]
  },
  {
   "cell_type": "code",
   "execution_count": 4,
   "metadata": {
    "ExecuteTime": {
     "end_time": "2020-04-01T15:44:10.954664Z",
     "start_time": "2020-04-01T15:44:10.715165Z"
    }
   },
   "outputs": [],
   "source": [
    "Confirmed = loadData(\"time_series_covid19_confirmed_global.csv\")"
   ]
  },
  {
   "cell_type": "markdown",
   "metadata": {
    "heading_collapsed": true
   },
   "source": [
    "# Structure dataset"
   ]
  },
  {
   "cell_type": "code",
   "execution_count": 5,
   "metadata": {
    "ExecuteTime": {
     "end_time": "2020-04-01T15:44:49.504000Z",
     "start_time": "2020-04-01T15:44:49.484080Z"
    },
    "hidden": true
   },
   "outputs": [],
   "source": [
    "# grouping by country\n",
    "Confirmed = Confirmed.groupby(['Country/Region']).sum()"
   ]
  },
  {
   "cell_type": "code",
   "execution_count": 6,
   "metadata": {
    "ExecuteTime": {
     "end_time": "2020-04-01T15:44:49.741718Z",
     "start_time": "2020-04-01T15:44:49.734248Z"
    },
    "hidden": true
   },
   "outputs": [],
   "source": [
    "Confirmed = Confirmed.T"
   ]
  },
  {
   "cell_type": "code",
   "execution_count": 7,
   "metadata": {
    "ExecuteTime": {
     "end_time": "2020-04-01T15:44:50.641572Z",
     "start_time": "2020-04-01T15:44:50.626846Z"
    },
    "hidden": true
   },
   "outputs": [],
   "source": [
    "Confirmed.index = pd.to_datetime(Confirmed.index)"
   ]
  },
  {
   "cell_type": "markdown",
   "metadata": {
    "heading_collapsed": true
   },
   "source": [
    "# Logistic model"
   ]
  },
  {
   "cell_type": "markdown",
   "metadata": {
    "hidden": true
   },
   "source": [
    "Inspired by https://towardsdatascience.com/covid-19-infection-in-italy-mathematical-models-and-predictions-7784b4d7dd8d)"
   ]
  },
  {
   "cell_type": "code",
   "execution_count": 8,
   "metadata": {
    "ExecuteTime": {
     "end_time": "2020-04-01T15:45:37.123275Z",
     "start_time": "2020-04-01T15:45:37.117298Z"
    },
    "hidden": true
   },
   "outputs": [],
   "source": [
    "def logistic_model(x,a,b,c):\n",
    "    return c/(1+np.exp(-(x-b)/a))"
   ]
  },
  {
   "cell_type": "code",
   "execution_count": 9,
   "metadata": {
    "ExecuteTime": {
     "end_time": "2020-04-01T15:45:37.872282Z",
     "start_time": "2020-04-01T15:45:37.864301Z"
    },
    "hidden": true
   },
   "outputs": [],
   "source": [
    "def logistic_covid(covid19_df, nation):\n",
    "    \"\"\"\n",
    "    df: dataframe of covid19 data with nations as columns and timestamp as index\n",
    "    nation: string\n",
    "    \n",
    "    \"\"\"\n",
    "    df = covid19_df[nation]\n",
    "    \n",
    "    x = list(df.reset_index().index)\n",
    "    y = list(df.values)\n",
    "    fit = curve_fit(logistic_model, x, y,p0=[50,100,20000])\n",
    "\n",
    "    errors = [np.sqrt(fit[1][i][i]) for i in [0,1,2]]\n",
    "\n",
    "    a = fit[0][0]\n",
    "    b = fit[0][1]\n",
    "    c = fit[0][2]\n",
    "\n",
    "#     print('Infection speed '+str(round(a)))\n",
    "    print('Maximum infections occurred on '+str(pd.to_datetime(df.index[0]) + pd.to_timedelta(round(b), unit='D')))\n",
    "    print('Total predicted infected '+str(round(c))+ ' +-'+str(round(errors[2])))\n",
    "\n",
    "    sol = int(fsolve(lambda x : logistic_model(x,a,b,c) - int(c),b))\n",
    "    pred_x = list(range(max(x),sol))\n",
    "    \n",
    "    # Real data\n",
    "    plt.scatter(x, y, label=\"Real data\", color=\"red\")\n",
    "\n",
    "    # Mdel data\n",
    "    plt.plot(x+pred_x, [logistic_model(i,fit[0][0],fit[0][1],fit[0][2]) for i in x+pred_x], label=\"Logistic model\");"
   ]
  },
  {
   "cell_type": "markdown",
   "metadata": {},
   "source": [
    "# Run logistic model"
   ]
  },
  {
   "cell_type": "markdown",
   "metadata": {},
   "source": [
    "Fitting a logistic model on total cases of a country. Select the country and check the predicted peak of infections and total population"
   ]
  },
  {
   "cell_type": "code",
   "execution_count": 11,
   "metadata": {
    "ExecuteTime": {
     "end_time": "2020-04-01T15:46:09.607000Z",
     "start_time": "2020-04-01T15:46:09.435328Z"
    }
   },
   "outputs": [
    {
     "data": {
      "application/vnd.jupyter.widget-view+json": {
       "model_id": "cc8edd5e6d684836a692eacccee68f39",
       "version_major": 2,
       "version_minor": 0
      },
      "text/plain": [
       "interactive(children=(Dropdown(description='nation', index=84, options=('Afghanistan', 'Albania', 'Algeria', '…"
      ]
     },
     "metadata": {},
     "output_type": "display_data"
    }
   ],
   "source": [
    "interact(logistic_covid, \n",
    "         covid19_df = fixed(Confirmed),\n",
    "         nation = Dropdown(options=list(Confirmed.columns), value='Italy')\n",
    "        );"
   ]
  },
  {
   "cell_type": "markdown",
   "metadata": {
    "heading_collapsed": true
   },
   "source": [
    "# SIR Model definition"
   ]
  },
  {
   "cell_type": "markdown",
   "metadata": {
    "hidden": true
   },
   "source": [
    "Inspired by https://www.linkedin.com/pulse/covid-19-from-model-prediction-predictive-control-ingmar-nopens/"
   ]
  },
  {
   "cell_type": "code",
   "execution_count": 12,
   "metadata": {
    "ExecuteTime": {
     "end_time": "2020-04-01T15:47:38.660808Z",
     "start_time": "2020-04-01T15:47:38.644377Z"
    },
    "hidden": true
   },
   "outputs": [],
   "source": [
    "def model_der(variables, t, beta, gamma):\n",
    "\n",
    "    S = variables[0]\n",
    "    I = variables[1]\n",
    "    R = variables[2]\n",
    "    \n",
    "    S_new = -beta*I*S \n",
    "    I_new = beta*I*S - gamma*I\n",
    "    R_new = gamma*I\n",
    "    return [S_new, I_new, R_new]"
   ]
  },
  {
   "cell_type": "code",
   "execution_count": 14,
   "metadata": {
    "ExecuteTime": {
     "end_time": "2020-04-01T15:48:08.766557Z",
     "start_time": "2020-04-01T15:48:08.757581Z"
    },
    "hidden": true
   },
   "outputs": [],
   "source": [
    "def SIRmodel_logbeta2(timesteps, S_0, I_0, R_0, log10_beta, gamma, measured_cases, country, returnDataFrame=True, plotFig=True):\n",
    "    \"\"\"\n",
    "    implementation of SIR population model\n",
    "    \n",
    "    Parameters\n",
    "    -----------\n",
    "    timesteps : np.array\n",
    "    country: string\n",
    "    log10_beta: float <0\n",
    "    gamma: float\n",
    "    \n",
    "    \"\"\"\n",
    "    \n",
    "    modeloutput = odeint(model_der, [S_0, I_0, R_0], timesteps, args=(10**(log10_beta), gamma));\n",
    "    modeloutput = pd.DataFrame(modeloutput, columns=['S','I','R'], index=timesteps)\n",
    "    \n",
    "    modeloutput.index = pd.date_range(start='1/20/2020', periods=len(timesteps))\n",
    "    \n",
    "    if plotFig:\n",
    "        fig, axes = plt.subplots(1,1, figsize=(10,10))\n",
    "        axes.set_xlabel('time')\n",
    "        axes.set_ylabel('Population')\n",
    "\n",
    "        axes.plot(measured_cases[country], 'rx')\n",
    "        axes.plot(modeloutput);\n",
    "#         measured_cases[country].plot(axes=axes)\n",
    "        \n",
    "    if returnDataFrame:\n",
    "        return modeloutput "
   ]
  },
  {
   "cell_type": "markdown",
   "metadata": {},
   "source": [
    "# Run SIR model"
   ]
  },
  {
   "cell_type": "markdown",
   "metadata": {},
   "source": [
    "Try to fir the SIR model to the cases of a specific country and compare it to the logistic model"
   ]
  },
  {
   "cell_type": "code",
   "execution_count": 15,
   "metadata": {
    "ExecuteTime": {
     "end_time": "2020-04-01T15:49:35.213369Z",
     "start_time": "2020-04-01T15:49:34.935420Z"
    }
   },
   "outputs": [
    {
     "data": {
      "application/vnd.jupyter.widget-view+json": {
       "model_id": "6f747f2fe19143e49913048fadc1bfe6",
       "version_major": 2,
       "version_minor": 0
      },
      "text/plain": [
       "interactive(children=(FloatSlider(value=500000.0, continuous_update=False, description='Affected population', …"
      ]
     },
     "metadata": {},
     "output_type": "display_data"
    }
   ],
   "source": [
    "interact(SIRmodel_logbeta2, \n",
    "         \n",
    "         timesteps=fixed(np.arange(0., 1000, 1)), \n",
    "         \n",
    "         country = Dropdown(options=list(Confirmed.columns), value='US'),\n",
    "         \n",
    "         measured_cases = fixed(Confirmed),\n",
    "         \n",
    "         S_0=FloatSlider(value=500000, \n",
    "                           min=Confirmed.max().mean(), \n",
    "                           max=5*Confirmed.max().max(), \n",
    "                           step=1000,\n",
    "                           continuous_update=False,\n",
    "                           description='Affected population'), \n",
    "         I_0=fixed(1), R_0=fixed(0),\n",
    "         \n",
    "         log10_beta=FloatSlider(value=-6.3, min=-8, max=-5, step=0.001,\n",
    "                                continuous_update=True, readout_format='.2e',\n",
    "                               description='log10(infection rate)'),\n",
    "         \n",
    "         gamma=FloatSlider(value=0.06, min=0, max=0.06, step=0.001,\n",
    "                           continuous_update=False, readout_format='.2e',\n",
    "                          description='Recovery rate'),\n",
    "         returnDataFrame=fixed(False));\n",
    "# axes.plot(COVID19_totalConf, 'rx')"
   ]
  },
  {
   "cell_type": "markdown",
   "metadata": {},
   "source": [
    "# LogLog visualization (when are we on our way out of pandemic)"
   ]
  },
  {
   "cell_type": "markdown",
   "metadata": {},
   "source": [
    "Inspired by https://t.co/q2AtUQBX5P?amp=1"
   ]
  },
  {
   "cell_type": "code",
   "execution_count": 19,
   "metadata": {
    "ExecuteTime": {
     "end_time": "2020-04-01T15:50:46.568405Z",
     "start_time": "2020-04-01T15:50:46.562421Z"
    }
   },
   "outputs": [],
   "source": [
    "def infectionrate(Confirmed, country, return_plot = True, return_df=False):\n",
    "    \"\"\"\n",
    "    Confirmed: df adjusted from JHU\n",
    "    country: string\n",
    "    \"\"\"\n",
    "    country = list(country)\n",
    "    res = (Confirmed[country] - Confirmed[country].shift(1, freq=Week()).reindex(Confirmed[country].index)).fillna(value=0)\n",
    "    if return_plot is True:\n",
    "        res.plot()\n",
    "    if return_df is True:\n",
    "        return(res);"
   ]
  },
  {
   "cell_type": "code",
   "execution_count": 20,
   "metadata": {
    "ExecuteTime": {
     "end_time": "2020-04-01T15:50:46.722630Z",
     "start_time": "2020-04-01T15:50:46.715684Z"
    }
   },
   "outputs": [],
   "source": [
    "def loglog_covid(Confirmed, countries):\n",
    "    \"\"\"\n",
    "    Confirmed: df adjustedc from JHU\n",
    "    countries: list in columns of Confirmed\n",
    "    \n",
    "    \"\"\"\n",
    "    fig, axes = plt.subplots(figsize=(15,10))\n",
    "    \n",
    "    df = infectionrate(Confirmed, countries, return_plot=False, return_df=True)\n",
    "\n",
    "    axes.loglog(Confirmed.sum(axis=1), df.values, 'o')\n",
    "    axes.legend(countries)\n",
    "    axes.set_title('Loglog')\n",
    "    axes.set_ylabel('Weekly increase of positive cases')\n",
    "    axes.set_xlabel('Total cases globally')"
   ]
  },
  {
   "cell_type": "markdown",
   "metadata": {},
   "source": [
    "## Visualization of infection rate (weekly new cases)"
   ]
  },
  {
   "cell_type": "markdown",
   "metadata": {},
   "source": [
    "Check the rate of infections for one or multiple countries"
   ]
  },
  {
   "cell_type": "code",
   "execution_count": 18,
   "metadata": {
    "ExecuteTime": {
     "end_time": "2020-04-01T15:49:48.263159Z",
     "start_time": "2020-04-01T15:49:47.969093Z"
    }
   },
   "outputs": [
    {
     "data": {
      "application/vnd.jupyter.widget-view+json": {
       "model_id": "8f074bf0f7fe47568420b8198734e0e4",
       "version_major": 2,
       "version_minor": 0
      },
      "text/plain": [
       "interactive(children=(SelectMultiple(description='Select country(ies)', index=(16, 84, 153, 168), layout=Layou…"
      ]
     },
     "metadata": {},
     "output_type": "display_data"
    }
   ],
   "source": [
    "interact(infectionrate,\n",
    "         Confirmed = fixed(Confirmed),\n",
    "         country = SelectMultiple(options=list(Confirmed.columns), value=['Belgium', 'Italy', 'Spain', 'US'],\n",
    "                                  description='Select country(ies)',\n",
    "                                  style = {'description_width': 'initial'},\n",
    "                                  layout=Layout(width='40%', height='100px')),\n",
    "         return_df = fixed(False),\n",
    "         return_plot = fixed(True));"
   ]
  },
  {
   "cell_type": "markdown",
   "metadata": {},
   "source": [
    "## loglog plot"
   ]
  },
  {
   "cell_type": "markdown",
   "metadata": {},
   "source": [
    "Inspired by https://t.co/q2AtUQBX5P?amp=1"
   ]
  },
  {
   "cell_type": "markdown",
   "metadata": {},
   "source": [
    "A smart way of visualizing how effective are the measures taken from each country to limit the infection rate. When the Y axis values drop significantly, this means that the spreading of the infections is sensibly decreased."
   ]
  },
  {
   "cell_type": "code",
   "execution_count": 21,
   "metadata": {
    "ExecuteTime": {
     "end_time": "2020-04-01T15:51:31.424156Z",
     "start_time": "2020-04-01T15:51:30.755365Z"
    }
   },
   "outputs": [
    {
     "data": {
      "application/vnd.jupyter.widget-view+json": {
       "model_id": "d9bf0c3b0f2a49db8b8b4df40347b528",
       "version_major": 2,
       "version_minor": 0
      },
      "text/plain": [
       "interactive(children=(SelectMultiple(description='Select countries (Ctrl+ for multi-selection)', index=(16, 84…"
      ]
     },
     "metadata": {},
     "output_type": "display_data"
    }
   ],
   "source": [
    "interact(loglog_covid,\n",
    "         Confirmed = fixed(Confirmed),\n",
    "         countries = SelectMultiple(options=list(Confirmed.columns), value=['Belgium', 'Italy', 'Spain', 'US'],\n",
    "                                 description='Select countries (Ctrl+ for multi-selection)', \n",
    "                                    style = {'description_width': 'initial'},\n",
    "                                    layout=Layout(width='50%', height='100px')),\n",
    "         return_df= fixed(False));"
   ]
  },
  {
   "cell_type": "code",
   "execution_count": null,
   "metadata": {},
   "outputs": [],
   "source": []
  },
  {
   "cell_type": "code",
   "execution_count": null,
   "metadata": {},
   "outputs": [],
   "source": []
  }
 ],
 "metadata": {
  "kernelspec": {
   "display_name": "Python 3",
   "language": "python",
   "name": "python3"
  },
  "language_info": {
   "codemirror_mode": {
    "name": "ipython",
    "version": 3
   },
   "file_extension": ".py",
   "mimetype": "text/x-python",
   "name": "python",
   "nbconvert_exporter": "python",
   "pygments_lexer": "ipython3",
   "version": "3.7.4"
  },
  "toc": {
   "base_numbering": 1,
   "nav_menu": {},
   "number_sections": true,
   "sideBar": true,
   "skip_h1_title": false,
   "title_cell": "Table of Contents",
   "title_sidebar": "Contents",
   "toc_cell": false,
   "toc_position": {},
   "toc_section_display": true,
   "toc_window_display": false
  }
 },
 "nbformat": 4,
 "nbformat_minor": 2
}
