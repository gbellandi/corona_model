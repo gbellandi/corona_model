{
 "cells": [
  {
   "cell_type": "markdown",
   "metadata": {},
   "source": [
    "Click the button above to load the interactive widgets"
   ]
  },
  {
   "cell_type": "code",
   "execution_count": 1,
   "metadata": {
    "ExecuteTime": {
     "end_time": "2020-05-04T07:10:30.480585Z",
     "start_time": "2020-05-04T07:10:26.219356Z"
    }
   },
   "outputs": [],
   "source": [
    "import pandas as pd\n",
    "import numpy as np\n",
    "from scipy.integrate import odeint\n",
    "import matplotlib.pyplot as plt\n",
    "from datetime import datetime,timedelta\n",
    "from sklearn.metrics import mean_squared_error\n",
    "from scipy.optimize import curve_fit, fsolve\n",
    "\n",
    "from IPython.display import Image\n",
    "from ipywidgets import interact\n",
    "from ipywidgets import fixed, ToggleButtons, IntSlider, FloatSlider, Dropdown, SelectMultiple, Layout\n",
    "\n",
    "from pandas.tseries.offsets import Week\n",
    "#%matplotlib inline"
   ]
  },
  {
   "cell_type": "markdown",
   "metadata": {},
   "source": [
    "<b> Preface </b>\n",
    "    \n",
    "    Here are being condensed few simple models and data visualization tools that capture my attention in literature. The idea is to play around with it and understand how important is to limit social contact in this period, and also the importance of modelling for understanding and timely actions."
   ]
  },
  {
   "cell_type": "markdown",
   "metadata": {},
   "source": [
    "# Load data from JHU"
   ]
  },
  {
   "cell_type": "code",
   "execution_count": 2,
   "metadata": {
    "ExecuteTime": {
     "end_time": "2020-05-04T07:11:03.399621Z",
     "start_time": "2020-05-04T07:11:03.392635Z"
    }
   },
   "outputs": [],
   "source": [
    "def loadData(fileName):\n",
    "    data = pd.read_csv(baseURL + fileName) \\\n",
    "             .drop(['Lat', 'Long'], axis=1) #\\\n",
    "#              .melt(id_vars=['Province/State', 'Country/Region'], \n",
    "#                  var_name='date', value_name=columnName) \\\n",
    "#              .astype({'date':'datetime64[ns]', columnName:'Int64'}, \n",
    "#                  errors='ignore')\n",
    "    data['Province/State'].fillna('<all>', inplace=True)\n",
    "#     data[columnName].fillna(0, inplace=True)\n",
    "    return data"
   ]
  },
  {
   "cell_type": "code",
   "execution_count": 3,
   "metadata": {
    "ExecuteTime": {
     "end_time": "2020-05-04T07:11:03.684648Z",
     "start_time": "2020-05-04T07:11:03.677908Z"
    }
   },
   "outputs": [],
   "source": [
    "baseURL = \"https://raw.githubusercontent.com/CSSEGISandData/COVID-19/master/csse_covid_19_data/csse_covid_19_time_series/\""
   ]
  },
  {
   "cell_type": "code",
   "execution_count": 4,
   "metadata": {
    "ExecuteTime": {
     "end_time": "2020-05-04T07:11:04.306434Z",
     "start_time": "2020-05-04T07:11:03.943669Z"
    }
   },
   "outputs": [],
   "source": [
    "Confirmed = loadData(\"time_series_covid19_confirmed_global.csv\")"
   ]
  },
  {
   "cell_type": "markdown",
   "metadata": {},
   "source": [
    "# Structure dataset"
   ]
  },
  {
   "cell_type": "code",
   "execution_count": 5,
   "metadata": {
    "ExecuteTime": {
     "end_time": "2020-05-04T07:11:06.866040Z",
     "start_time": "2020-05-04T07:11:06.823058Z"
    }
   },
   "outputs": [],
   "source": [
    "# grouping by country\n",
    "Confirmed = Confirmed.groupby(['Country/Region']).sum()"
   ]
  },
  {
   "cell_type": "code",
   "execution_count": 6,
   "metadata": {
    "ExecuteTime": {
     "end_time": "2020-05-04T07:11:07.084464Z",
     "start_time": "2020-05-04T07:11:07.079476Z"
    }
   },
   "outputs": [],
   "source": [
    "Confirmed = Confirmed.T"
   ]
  },
  {
   "cell_type": "code",
   "execution_count": 7,
   "metadata": {
    "ExecuteTime": {
     "end_time": "2020-05-04T07:11:07.248362Z",
     "start_time": "2020-05-04T07:11:07.226420Z"
    }
   },
   "outputs": [],
   "source": [
    "Confirmed.index = pd.to_datetime(Confirmed.index)"
   ]
  },
  {
   "cell_type": "markdown",
   "metadata": {},
   "source": [
    "# Logistic model"
   ]
  },
  {
   "cell_type": "markdown",
   "metadata": {},
   "source": [
    "Inspired by https://towardsdatascience.com/covid-19-infection-in-italy-mathematical-models-and-predictions-7784b4d7dd8d)"
   ]
  },
  {
   "cell_type": "code",
   "execution_count": 8,
   "metadata": {
    "ExecuteTime": {
     "end_time": "2020-05-04T07:11:09.412889Z",
     "start_time": "2020-05-04T07:11:09.407903Z"
    }
   },
   "outputs": [],
   "source": [
    "def logistic_model(x,a,b,c):\n",
    "    return c/(1+np.exp(-(x-b)/a))"
   ]
  },
  {
   "cell_type": "code",
   "execution_count": 9,
   "metadata": {
    "ExecuteTime": {
     "end_time": "2020-05-04T07:11:09.871265Z",
     "start_time": "2020-05-04T07:11:09.856305Z"
    }
   },
   "outputs": [],
   "source": [
    "def logistic_covid(covid19_df, country):\n",
    "    \"\"\"\n",
    "    df: dataframe of covid19 data with nations as columns and timestamp as index\n",
    "    country: string\n",
    "    \n",
    "    \"\"\"\n",
    "    df = covid19_df[country]\n",
    "    \n",
    "    x = list(df.reset_index().index)\n",
    "    y = list(df.values)\n",
    "    \n",
    "#     Real data\n",
    "    plt.scatter(x, y, label=\"Real data\", color=\"red\")\n",
    "    \n",
    "#     fit data\n",
    "    fit = curve_fit(logistic_model, x, y,p0=[50,100,20000])\n",
    "    errors = [np.sqrt(fit[1][i][i]) for i in [0,1,2]]\n",
    "\n",
    "    a = fit[0][0]\n",
    "    b = fit[0][1]\n",
    "    c = fit[0][2]\n",
    "\n",
    "#     print('Infection speed '+str(round(a)))\n",
    "    print('Maximum infections occurred on '+str(pd.to_datetime(df.index[0]) + pd.to_timedelta(round(b), unit='D')))\n",
    "    print('Total predicted infections '+str(round(c))+ ' +-'+str(round(errors[2])))\n",
    "\n",
    "    sol = int(fsolve(lambda x : logistic_model(x,a,b,c) - int(c),b))\n",
    "    pred_x = list(range(max(x),sol))\n",
    "\n",
    "    # Mdel data\n",
    "    plt.plot(x+pred_x, [logistic_model(i,fit[0][0],fit[0][1],fit[0][2]) for i in x+pred_x], label=\"Logistic model\");"
   ]
  },
  {
   "cell_type": "markdown",
   "metadata": {},
   "source": [
    "# Run logistic model"
   ]
  },
  {
   "cell_type": "markdown",
   "metadata": {},
   "source": [
    "Fitting a logistic model on total cases of a country. Select the country and check the predicted peak of infections and total population"
   ]
  },
  {
   "cell_type": "code",
   "execution_count": 10,
   "metadata": {
    "ExecuteTime": {
     "end_time": "2020-05-04T07:11:12.318906Z",
     "start_time": "2020-05-04T07:11:11.747536Z"
    }
   },
   "outputs": [
    {
     "data": {
      "application/vnd.jupyter.widget-view+json": {
       "model_id": "eec25d04b93b478abcbd68569946f2d7",
       "version_major": 2,
       "version_minor": 0
      },
      "text/plain": [
       "interactive(children=(Dropdown(description='country', index=85, options=('Afghanistan', 'Albania', 'Algeria', …"
      ]
     },
     "metadata": {},
     "output_type": "display_data"
    }
   ],
   "source": [
    "interact(logistic_covid, \n",
    "         covid19_df = fixed(Confirmed),\n",
    "         country = Dropdown(options=list(Confirmed.columns), value='Italy'));"
   ]
  },
  {
   "cell_type": "markdown",
   "metadata": {},
   "source": [
    "# SIR Model definition"
   ]
  },
  {
   "cell_type": "markdown",
   "metadata": {},
   "source": [
    "Inspired by https://www.linkedin.com/pulse/covid-19-from-model-prediction-predictive-control-ingmar-nopens/"
   ]
  },
  {
   "cell_type": "code",
   "execution_count": 11,
   "metadata": {
    "ExecuteTime": {
     "end_time": "2020-05-04T07:11:18.774918Z",
     "start_time": "2020-05-04T07:11:18.765938Z"
    }
   },
   "outputs": [],
   "source": [
    "def model_der(variables, t, beta, gamma):\n",
    "\n",
    "    S = variables[0]\n",
    "    I = variables[1]\n",
    "    R = variables[2]\n",
    "    \n",
    "    S_new = -beta*I*S \n",
    "    I_new = beta*I*S - gamma*I\n",
    "    R_new = gamma*I\n",
    "    return [S_new, I_new, R_new]"
   ]
  },
  {
   "cell_type": "code",
   "execution_count": 12,
   "metadata": {
    "ExecuteTime": {
     "end_time": "2020-05-04T07:11:19.070496Z",
     "start_time": "2020-05-04T07:11:19.062512Z"
    }
   },
   "outputs": [],
   "source": [
    "def SIRmodel_logbeta2(timesteps, S_0, I_0, R_0, log10_beta, gamma, measured_cases, country, returnDataFrame=True, plotFig=True):\n",
    "    \"\"\"\n",
    "    implementation of SIR population model\n",
    "    \n",
    "    Parameters\n",
    "    -----------\n",
    "    timesteps : np.array\n",
    "    country: string\n",
    "    log10_beta: float <0\n",
    "    gamma: float\n",
    "    \n",
    "    \"\"\"\n",
    "    \n",
    "    modeloutput = odeint(model_der, [S_0, I_0, R_0], timesteps, args=(10**(log10_beta), gamma));\n",
    "    modeloutput = pd.DataFrame(modeloutput, columns=['S','I','R'], index=timesteps)\n",
    "    \n",
    "    modeloutput.index = pd.date_range(start='1/20/2020', periods=len(timesteps))\n",
    "    \n",
    "    if plotFig:\n",
    "        fig, axes = plt.subplots(1,1, figsize=(10,8))\n",
    "        axes.set_xlabel('time')\n",
    "        axes.set_ylabel('Population')\n",
    "\n",
    "        axes.plot(measured_cases[country], 'rx')\n",
    "        axes.plot(modeloutput);\n",
    "#         measured_cases[country].plot(axes=axes)\n",
    "        \n",
    "    if returnDataFrame:\n",
    "        return modeloutput "
   ]
  },
  {
   "cell_type": "markdown",
   "metadata": {},
   "source": [
    "# Run SIR model"
   ]
  },
  {
   "cell_type": "markdown",
   "metadata": {},
   "source": [
    "Try to fir the SIR model to the cases of a specific country and compare it to the logistic model"
   ]
  },
  {
   "cell_type": "code",
   "execution_count": 16,
   "metadata": {
    "ExecuteTime": {
     "end_time": "2020-05-04T07:11:44.398608Z",
     "start_time": "2020-05-04T07:11:43.777260Z"
    }
   },
   "outputs": [
    {
     "data": {
      "application/vnd.jupyter.widget-view+json": {
       "model_id": "2e7cef0b34be4c68b1f26cce653f85dd",
       "version_major": 2,
       "version_minor": 0
      },
      "text/plain": [
       "interactive(children=(FloatSlider(value=2000000.0, continuous_update=False, description='Affected population',…"
      ]
     },
     "metadata": {},
     "output_type": "display_data"
    }
   ],
   "source": [
    "interact(SIRmodel_logbeta2, \n",
    "         timesteps=fixed(np.arange(0., 1000, 1)), country = Dropdown(options=list(Confirmed.columns), value='US'), \n",
    "         measured_cases = fixed(Confirmed),\n",
    "         S_0=FloatSlider(value=2000000, min=Confirmed.max().mean(), max=5*Confirmed.max().max(), step=1000,\n",
    "                           continuous_update=False, description='Affected population', style = {'description_width': 'initial'}, \n",
    "                           layout=Layout(width='50%', height='30px')), \n",
    "         I_0=fixed(1), R_0=fixed(0),\n",
    "         log10_beta=FloatSlider(value=-6.3, min=-8, max=-5, step=0.001, continuous_update=True, readout_format='.2e',\n",
    "                               description='log10(infection rate)', style = {'description_width': 'initial'}, \n",
    "                                layout=Layout(width='50%', height='30px')),\n",
    "         gamma=FloatSlider(value=0.06, min=0, max=0.06, step=0.001, description='Recovery rate', style = {'description_width': 'initial'}, \n",
    "                           layout=Layout(width='50%', height='30px')),          \n",
    "         continuous_update=False, readout_format='.2e', returnDataFrame=fixed(False), plotFig=fixed(True));"
   ]
  },
  {
   "cell_type": "markdown",
   "metadata": {},
   "source": [
    "# LogLog visualization (when are we on our way out of pandemic)"
   ]
  },
  {
   "cell_type": "markdown",
   "metadata": {},
   "source": [
    "Inspired by https://t.co/q2AtUQBX5P?amp=1"
   ]
  },
  {
   "cell_type": "code",
   "execution_count": 17,
   "metadata": {
    "ExecuteTime": {
     "end_time": "2020-05-04T07:11:51.977127Z",
     "start_time": "2020-05-04T07:11:51.955187Z"
    }
   },
   "outputs": [],
   "source": [
    "Confirmedweeklyrates = (Confirmed - Confirmed.shift(1, freq=Week()).reindex(Confirmed.index)).fillna(value=0)"
   ]
  },
  {
   "cell_type": "code",
   "execution_count": 18,
   "metadata": {
    "ExecuteTime": {
     "end_time": "2020-05-04T07:11:52.166637Z",
     "start_time": "2020-05-04T07:11:52.161633Z"
    }
   },
   "outputs": [],
   "source": [
    "def plot_infectionrate(Confirmedweeklyrates, country, return_plot = True, return_df=False):\n",
    "    \"\"\"\n",
    "    Confirmedweeklyrates: rate of infection adjusted from JHU\n",
    "    country: string\n",
    "    \"\"\"\n",
    "    country = list(country)\n",
    "    res = Confirmedweeklyrates[country]\n",
    "    if return_plot is True:\n",
    "        res.plot(figsize=(10,5))\n",
    "    if return_df is True:\n",
    "        return(res);"
   ]
  },
  {
   "cell_type": "code",
   "execution_count": 19,
   "metadata": {
    "ExecuteTime": {
     "end_time": "2020-05-04T07:11:52.530612Z",
     "start_time": "2020-05-04T07:11:52.521629Z"
    }
   },
   "outputs": [],
   "source": [
    "def loglog_covid(Confirmedweeklyrates, countries):\n",
    "    \"\"\"\n",
    "    Confirmed: df adjustedc from JHU\n",
    "    countries: list in columns of Confirmed\n",
    "    \n",
    "    \"\"\"\n",
    "    fig, axes = plt.subplots(figsize=(15,8))\n",
    "    \n",
    "    df = Confirmedweeklyrates[list(countries)]\n",
    "\n",
    "    axes.loglog(Confirmed.sum(axis=1), df.values, 'o')\n",
    "    axes.legend(countries)\n",
    "    axes.set_title('Loglog')\n",
    "    axes.set_ylabel('Weekly increase of positive cases')\n",
    "    axes.set_xlabel('Total cases globally')\n",
    "    axes.set_xlim([1e4,1e7])"
   ]
  },
  {
   "cell_type": "markdown",
   "metadata": {},
   "source": [
    "## Visualization of infection rate (weekly new cases)"
   ]
  },
  {
   "cell_type": "markdown",
   "metadata": {},
   "source": [
    "Check the rate of infections for one or multiple countries"
   ]
  },
  {
   "cell_type": "code",
   "execution_count": 20,
   "metadata": {
    "ExecuteTime": {
     "end_time": "2020-05-04T07:11:58.877879Z",
     "start_time": "2020-05-04T07:11:58.301364Z"
    }
   },
   "outputs": [
    {
     "data": {
      "application/vnd.jupyter.widget-view+json": {
       "model_id": "390eef9b566446bca31fce776c12f180",
       "version_major": 2,
       "version_minor": 0
      },
      "text/plain": [
       "interactive(children=(SelectMultiple(description='Select country(ies)', index=(16, 85, 157, 173), layout=Layou…"
      ]
     },
     "metadata": {},
     "output_type": "display_data"
    }
   ],
   "source": [
    "interact(plot_infectionrate,\n",
    "         Confirmedweeklyrates = fixed(Confirmedweeklyrates),\n",
    "         country = SelectMultiple(options=list(Confirmedweeklyrates.columns), value=['Belgium', 'Italy', 'Spain', 'US'],\n",
    "                                  description='Select country(ies)',\n",
    "                                  style = {'description_width': 'initial'},\n",
    "                                  layout=Layout(width='40%', height='100px')),\n",
    "         return_df = fixed(False),\n",
    "         return_plot = fixed(True));"
   ]
  },
  {
   "cell_type": "markdown",
   "metadata": {},
   "source": [
    "## loglog plot"
   ]
  },
  {
   "cell_type": "markdown",
   "metadata": {},
   "source": [
    "Inspired by https://t.co/q2AtUQBX5P?amp=1"
   ]
  },
  {
   "cell_type": "markdown",
   "metadata": {},
   "source": [
    "A smart way of visualizing how effective are the measures taken from each country to limit the infection rate. When the Y axis values drop significantly, this means that the spreading of the infections is sensibly decreased."
   ]
  },
  {
   "cell_type": "code",
   "execution_count": 21,
   "metadata": {
    "ExecuteTime": {
     "end_time": "2020-05-04T07:12:29.443634Z",
     "start_time": "2020-05-04T07:12:27.870687Z"
    }
   },
   "outputs": [
    {
     "data": {
      "application/vnd.jupyter.widget-view+json": {
       "model_id": "4dc88f6d3ca243e89e8096302db038e7",
       "version_major": 2,
       "version_minor": 0
      },
      "text/plain": [
       "interactive(children=(SelectMultiple(description='Select countries (Ctrl+ for multi-selection)', index=(16, 85…"
      ]
     },
     "metadata": {},
     "output_type": "display_data"
    }
   ],
   "source": [
    "interact(loglog_covid,\n",
    "         Confirmedweeklyrates = fixed(Confirmedweeklyrates),\n",
    "         countries = SelectMultiple(options=list(Confirmed.columns), value=['Belgium', 'Italy', 'Spain', 'US'],\n",
    "                                 description='Select countries (Ctrl+ for multi-selection)', \n",
    "                                    style = {'description_width': 'initial'},\n",
    "                                    layout=Layout(width='50%', height='200px')),\n",
    "         return_df= fixed(False));"
   ]
  },
  {
   "cell_type": "markdown",
   "metadata": {},
   "source": [
    "## loglog plot (alternative to facilitate widgets)"
   ]
  },
  {
   "cell_type": "code",
   "execution_count": 22,
   "metadata": {
    "ExecuteTime": {
     "end_time": "2020-05-04T07:13:06.142820Z",
     "start_time": "2020-05-04T07:13:06.126861Z"
    }
   },
   "outputs": [],
   "source": [
    "Confirmedweeklyrates = (Confirmed - Confirmed.shift(1, freq=Week()).reindex(Confirmed.index)).fillna(value=0)"
   ]
  },
  {
   "cell_type": "code",
   "execution_count": 23,
   "metadata": {
    "ExecuteTime": {
     "end_time": "2020-05-04T07:13:06.345796Z",
     "start_time": "2020-05-04T07:13:06.336305Z"
    }
   },
   "outputs": [],
   "source": [
    "def loglog_covid2(Confirmedweeklyrates, countries):\n",
    "    \"\"\"\n",
    "    Confirmed: df adjustedc from JHU\n",
    "    countries: list in columns of Confirmed\n",
    "    \n",
    "    \"\"\"\n",
    "    fig, axes = plt.subplots(figsize=(15,8))\n",
    "    \n",
    "\n",
    "    axes.loglog(Confirmed.sum(axis=1), Confirmedweeklyrates[list(countries)].values, 'o')\n",
    "    axes.legend(countries)\n",
    "    axes.set_title('Loglog')\n",
    "    axes.set_ylabel('Weekly increase of positive cases')\n",
    "    axes.set_xlabel('Global cases confirmed')\n",
    "    axes.set_xlim([1e4,1e7])"
   ]
  },
  {
   "cell_type": "code",
   "execution_count": 24,
   "metadata": {
    "ExecuteTime": {
     "end_time": "2020-05-04T07:13:08.236686Z",
     "start_time": "2020-05-04T07:13:06.472457Z"
    }
   },
   "outputs": [
    {
     "data": {
      "application/vnd.jupyter.widget-view+json": {
       "model_id": "6bad009e9f1e4dceb8cb5b62c9b50b60",
       "version_major": 2,
       "version_minor": 0
      },
      "text/plain": [
       "interactive(children=(SelectMultiple(description='Select countries (Ctrl+ for multi-selection)', index=(85, 16…"
      ]
     },
     "metadata": {},
     "output_type": "display_data"
    }
   ],
   "source": [
    "interact(loglog_covid2,\n",
    "         Confirmedweeklyrates = fixed(Confirmedweeklyrates),\n",
    "         countries = SelectMultiple(options=Confirmedweeklyrates.columns, \n",
    "                                    description='Select countries (Ctrl+ for multi-selection)', \n",
    "                                    style = {'description_width': 'initial'}, layout=Layout(width='60%', height='150px'),\n",
    "                                    value=['Italy', 'Belgium', 'Spain', 'US']));"
   ]
  },
  {
   "cell_type": "code",
   "execution_count": null,
   "metadata": {},
   "outputs": [],
   "source": []
  },
  {
   "cell_type": "code",
   "execution_count": null,
   "metadata": {},
   "outputs": [],
   "source": []
  }
 ],
 "metadata": {
  "kernelspec": {
   "display_name": "Python 3",
   "language": "python",
   "name": "python3"
  },
  "language_info": {
   "codemirror_mode": {
    "name": "ipython",
    "version": 3
   },
   "file_extension": ".py",
   "mimetype": "text/x-python",
   "name": "python",
   "nbconvert_exporter": "python",
   "pygments_lexer": "ipython3",
   "version": "3.7.6"
  },
  "toc": {
   "base_numbering": 1,
   "nav_menu": {},
   "number_sections": true,
   "sideBar": true,
   "skip_h1_title": false,
   "title_cell": "Table of Contents",
   "title_sidebar": "Contents",
   "toc_cell": false,
   "toc_position": {},
   "toc_section_display": true,
   "toc_window_display": true
  }
 },
 "nbformat": 4,
 "nbformat_minor": 2
}
