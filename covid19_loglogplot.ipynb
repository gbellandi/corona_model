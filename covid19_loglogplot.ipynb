{
 "cells": [
  {
   "cell_type": "markdown",
   "metadata": {},
   "source": [
    "Click the button above to load the interactive widgets"
   ]
  },
  {
   "cell_type": "markdown",
   "metadata": {},
   "source": [
    "# Visualization of infection rate (weekly new cases)"
   ]
  },
  {
   "cell_type": "markdown",
   "metadata": {},
   "source": [
    "Check the rate of infections for one or multiple countries"
   ]
  },
  {
   "cell_type": "code",
   "execution_count": 11,
   "metadata": {
    "ExecuteTime": {
     "end_time": "2020-04-27T07:46:04.085881Z",
     "start_time": "2020-04-27T07:46:03.641069Z"
    }
   },
   "outputs": [
    {
     "data": {
      "application/vnd.jupyter.widget-view+json": {
       "model_id": "32813b4e78b046a5a7b7333fc0556880",
       "version_major": 2,
       "version_minor": 0
      },
      "text/plain": [
       "interactive(children=(SelectMultiple(description='Select countries (Ctrl+ for multi-selection)', index=(16, 84…"
      ]
     },
     "metadata": {},
     "output_type": "display_data"
    }
   ],
   "source": [
    "interact(plot_infectionrate,\n",
    "         Confirmedweeklyrates = fixed(Confirmedweeklyrates),\n",
    "         country = SelectMultiple(options=list(Confirmedweeklyrates.columns), value=['Belgium', 'Italy', 'Spain', 'US'],\n",
    "                                  description='Select countries (Ctrl+ for multi-selection)',\n",
    "                                  style = {'description_width': 'initial'}, layout=Layout(width='50%', height='100px')), \n",
    "         return_df = fixed(False), return_plot = fixed(True));"
   ]
  },
  {
   "cell_type": "markdown",
   "metadata": {},
   "source": [
    "# loglog plot"
   ]
  },
  {
   "cell_type": "markdown",
   "metadata": {},
   "source": [
    "Inspired by https://t.co/q2AtUQBX5P?amp=1"
   ]
  },
  {
   "cell_type": "markdown",
   "metadata": {},
   "source": [
    "A smart way of visualizing the effectiveness of social distancing for each country. \n",
    "When the Y axis value (rate of infections) drops as a result of the strict measures of social distancing."
   ]
  },
  {
   "cell_type": "code",
   "execution_count": 12,
   "metadata": {
    "ExecuteTime": {
     "end_time": "2020-04-27T07:46:07.433924Z",
     "start_time": "2020-04-27T07:46:06.129414Z"
    }
   },
   "outputs": [
    {
     "data": {
      "application/vnd.jupyter.widget-view+json": {
       "model_id": "9c38c38a32a049458ad392bcc72375bf",
       "version_major": 2,
       "version_minor": 0
      },
      "text/plain": [
       "interactive(children=(SelectMultiple(description='Select countries (Ctrl+ for multi-selection)', index=(84, 16…"
      ]
     },
     "metadata": {},
     "output_type": "display_data"
    }
   ],
   "source": [
    "interact(loglog_covid2,\n",
    "         Confirmedweeklyrates = fixed(Confirmedweeklyrates),\n",
    "         countries = SelectMultiple(options=Confirmedweeklyrates.columns, \n",
    "                                    description='Select countries (Ctrl+ for multi-selection)', \n",
    "                                    style = {'description_width': 'initial'}, layout=Layout(width='60%', height='150px'),\n",
    "                                    value=['Italy', 'Belgium', 'Spain', 'US']));"
   ]
  },
  {
   "cell_type": "markdown",
   "metadata": {},
   "source": [
    "Below you can find the code"
   ]
  },
  {
   "cell_type": "markdown",
   "metadata": {},
   "source": [
    "# Import modules"
   ]
  },
  {
   "cell_type": "code",
   "execution_count": 1,
   "metadata": {
    "ExecuteTime": {
     "end_time": "2020-04-27T07:45:56.783255Z",
     "start_time": "2020-04-27T07:45:55.369004Z"
    }
   },
   "outputs": [],
   "source": [
    "import pandas as pd\n",
    "import numpy as np\n",
    "from scipy.integrate import odeint\n",
    "import matplotlib.pyplot as plt\n",
    "from datetime import datetime,timedelta\n",
    "# from sklearn.metrics import mean_squared_error\n",
    "# from scipy.optimize import curve_fit, fsolve\n",
    "\n",
    "from IPython.display import Image\n",
    "from ipywidgets import interact\n",
    "from ipywidgets import fixed, ToggleButtons, IntSlider, FloatSlider, Dropdown, SelectMultiple, Layout\n",
    "\n",
    "from pandas.tseries.offsets import Week\n",
    "%matplotlib inline"
   ]
  },
  {
   "cell_type": "markdown",
   "metadata": {},
   "source": [
    "<b> Preface </b>\n",
    "    \n",
    "    Here are being condensed few simple models and data visualization tools that capture my attention in literature. The idea is to play around with it and understand how important is to limit social contact in this period, and also the importance of modelling for understanding and timely actions."
   ]
  },
  {
   "cell_type": "markdown",
   "metadata": {},
   "source": [
    "# Load data from JHU"
   ]
  },
  {
   "cell_type": "code",
   "execution_count": 2,
   "metadata": {
    "ExecuteTime": {
     "end_time": "2020-04-27T07:45:56.791249Z",
     "start_time": "2020-04-27T07:45:56.785216Z"
    }
   },
   "outputs": [],
   "source": [
    "def loadData(fileName):\n",
    "    data = pd.read_csv(baseURL + fileName) \\\n",
    "             .drop(['Lat', 'Long'], axis=1) #\\\n",
    "#              .melt(id_vars=['Province/State', 'Country/Region'], \n",
    "#                  var_name='date', value_name=columnName) \\\n",
    "#              .astype({'date':'datetime64[ns]', columnName:'Int64'}, \n",
    "#                  errors='ignore')\n",
    "    data['Province/State'].fillna('<all>', inplace=True)\n",
    "#     data[columnName].fillna(0, inplace=True)\n",
    "    return data"
   ]
  },
  {
   "cell_type": "code",
   "execution_count": 3,
   "metadata": {
    "ExecuteTime": {
     "end_time": "2020-04-27T07:45:57.292912Z",
     "start_time": "2020-04-27T07:45:57.288957Z"
    }
   },
   "outputs": [],
   "source": [
    "baseURL = \"https://raw.githubusercontent.com/CSSEGISandData/COVID-19/master/csse_covid_19_data/csse_covid_19_time_series/\""
   ]
  },
  {
   "cell_type": "code",
   "execution_count": 4,
   "metadata": {
    "ExecuteTime": {
     "end_time": "2020-04-27T07:45:57.852513Z",
     "start_time": "2020-04-27T07:45:57.497920Z"
    }
   },
   "outputs": [],
   "source": [
    "Confirmed = loadData(\"time_series_covid19_confirmed_global.csv\")"
   ]
  },
  {
   "cell_type": "markdown",
   "metadata": {},
   "source": [
    "# Structure dataset"
   ]
  },
  {
   "cell_type": "code",
   "execution_count": 5,
   "metadata": {
    "ExecuteTime": {
     "end_time": "2020-04-27T07:45:57.953215Z",
     "start_time": "2020-04-27T07:45:57.937258Z"
    }
   },
   "outputs": [],
   "source": [
    "# grouping by country\n",
    "Confirmed = Confirmed.groupby(['Country/Region']).sum()"
   ]
  },
  {
   "cell_type": "code",
   "execution_count": 6,
   "metadata": {
    "ExecuteTime": {
     "end_time": "2020-04-27T07:45:58.155674Z",
     "start_time": "2020-04-27T07:45:58.149721Z"
    }
   },
   "outputs": [],
   "source": [
    "Confirmed = Confirmed.T"
   ]
  },
  {
   "cell_type": "code",
   "execution_count": 7,
   "metadata": {
    "ExecuteTime": {
     "end_time": "2020-04-27T07:45:58.354143Z",
     "start_time": "2020-04-27T07:45:58.337189Z"
    }
   },
   "outputs": [],
   "source": [
    "Confirmed.index = pd.to_datetime(Confirmed.index)"
   ]
  },
  {
   "cell_type": "markdown",
   "metadata": {},
   "source": [
    "# LogLog visualization (when are we on our way out of pandemic)"
   ]
  },
  {
   "cell_type": "markdown",
   "metadata": {},
   "source": [
    "Inspired by https://t.co/q2AtUQBX5P?amp=1"
   ]
  },
  {
   "cell_type": "code",
   "execution_count": 8,
   "metadata": {
    "ExecuteTime": {
     "end_time": "2020-04-27T07:45:58.968507Z",
     "start_time": "2020-04-27T07:45:58.937585Z"
    }
   },
   "outputs": [],
   "source": [
    "Confirmedweeklyrates = (Confirmed - Confirmed.shift(1, freq=Week()).reindex(Confirmed.index)).fillna(value=0)"
   ]
  },
  {
   "cell_type": "code",
   "execution_count": 9,
   "metadata": {
    "ExecuteTime": {
     "end_time": "2020-04-27T07:45:59.183925Z",
     "start_time": "2020-04-27T07:45:59.175944Z"
    }
   },
   "outputs": [],
   "source": [
    "def plot_infectionrate(Confirmedweeklyrates, country, return_plot = True, return_df=False):\n",
    "    \"\"\"\n",
    "    Confirmedweeklyrates: rate of infection adjusted from JHU\n",
    "    country: string\n",
    "    \"\"\"\n",
    "    country = list(country)\n",
    "    res = Confirmedweeklyrates[country]\n",
    "    if return_plot is True:\n",
    "        res.plot(figsize=(10,5))\n",
    "    if return_df is True:\n",
    "        return(res);"
   ]
  },
  {
   "cell_type": "code",
   "execution_count": 10,
   "metadata": {
    "ExecuteTime": {
     "end_time": "2020-04-27T07:45:59.403714Z",
     "start_time": "2020-04-27T07:45:59.395736Z"
    }
   },
   "outputs": [],
   "source": [
    "def loglog_covid2(Confirmedweeklyrates, countries):\n",
    "    \"\"\"\n",
    "    Confirmed: df adjustedc from JHU\n",
    "    countries: list in columns of Confirmed\n",
    "    \n",
    "    \"\"\"\n",
    "    fig, axes = plt.subplots(figsize=(15,8))\n",
    "    \n",
    "\n",
    "    axes.loglog(Confirmed.sum(axis=1), Confirmedweeklyrates[list(countries)].values, 'o')\n",
    "    axes.legend(countries)\n",
    "    axes.set_title('Loglog')\n",
    "    axes.set_ylabel('Weekly increase of positive cases')\n",
    "    axes.set_xlabel('Global cases confirmed')\n",
    "    axes.set_xlim([1e4,1e7])"
   ]
  },
  {
   "cell_type": "code",
   "execution_count": null,
   "metadata": {},
   "outputs": [],
   "source": []
  }
 ],
 "metadata": {
  "kernelspec": {
   "display_name": "Python 3",
   "language": "python",
   "name": "python3"
  },
  "language_info": {
   "codemirror_mode": {
    "name": "ipython",
    "version": 3
   },
   "file_extension": ".py",
   "mimetype": "text/x-python",
   "name": "python",
   "nbconvert_exporter": "python",
   "pygments_lexer": "ipython3",
   "version": "3.7.4"
  },
  "toc": {
   "base_numbering": 1,
   "nav_menu": {},
   "number_sections": true,
   "sideBar": true,
   "skip_h1_title": false,
   "title_cell": "Table of Contents",
   "title_sidebar": "Contents",
   "toc_cell": false,
   "toc_position": {},
   "toc_section_display": true,
   "toc_window_display": false
  }
 },
 "nbformat": 4,
 "nbformat_minor": 2
}
