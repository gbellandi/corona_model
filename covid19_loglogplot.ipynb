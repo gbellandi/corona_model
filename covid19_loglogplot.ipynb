{
 "cells": [
  {
   "cell_type": "markdown",
   "metadata": {},
   "source": [
    "Click the button above to load the interactive widgets"
   ]
  },
  {
   "cell_type": "markdown",
   "metadata": {},
   "source": [
    "# Visualization of infection rate (weekly new cases)"
   ]
  },
  {
   "cell_type": "markdown",
   "metadata": {},
   "source": [
    "Check the rate of infections for one or multiple countries"
   ]
  },
  {
   "cell_type": "code",
   "execution_count": 14,
   "metadata": {
    "ExecuteTime": {
     "end_time": "2020-04-04T13:03:16.591020Z",
     "start_time": "2020-04-04T13:03:15.747030Z"
    }
   },
   "outputs": [
    {
     "data": {
      "application/vnd.jupyter.widget-view+json": {
       "model_id": "c4b09e836c79411b9c0ca5dde88e782d",
       "version_major": 2,
       "version_minor": 0
      },
      "text/plain": [
       "interactive(children=(SelectMultiple(description='Select country(ies)', index=(16, 84, 154, 169), layout=Layou…"
      ]
     },
     "metadata": {},
     "output_type": "display_data"
    }
   ],
   "source": [
    "interact(plot_infectionrate,\n",
    "         Confirmedweeklyrates = fixed(Confirmedweeklyrates),\n",
    "         country = SelectMultiple(options=list(Confirmedweeklyrates.columns), value=['Belgium', 'Italy', 'Spain', 'US'],\n",
    "                                  description='Select country(ies)',\n",
    "                                  style = {'description_width': 'initial'},\n",
    "                                  layout=Layout(width='40%', height='100px')),\n",
    "         return_df = fixed(False),\n",
    "         return_plot = fixed(True));"
   ]
  },
  {
   "cell_type": "markdown",
   "metadata": {},
   "source": [
    "# loglog plot"
   ]
  },
  {
   "cell_type": "markdown",
   "metadata": {},
   "source": [
    "Inspired by https://t.co/q2AtUQBX5P?amp=1"
   ]
  },
  {
   "cell_type": "markdown",
   "metadata": {},
   "source": [
    "A smart way of visualizing how effective are the measures taken from each country to limit the infection rate. When the Y axis values drop significantly, this means that the spreading of the infections is sensibly decreased."
   ]
  },
  {
   "cell_type": "code",
   "execution_count": 15,
   "metadata": {
    "ExecuteTime": {
     "end_time": "2020-04-04T13:03:20.492689Z",
     "start_time": "2020-04-04T13:03:19.140868Z"
    }
   },
   "outputs": [
    {
     "data": {
      "application/vnd.jupyter.widget-view+json": {
       "model_id": "97ca6df9c9d143598ead3753e647fd19",
       "version_major": 2,
       "version_minor": 0
      },
      "text/plain": [
       "interactive(children=(SelectMultiple(description='countries', index=(84, 16, 154, 169), options=('Afghanistan'…"
      ]
     },
     "metadata": {},
     "output_type": "display_data"
    }
   ],
   "source": [
    "interact(loglog_covid2,\n",
    "         Confirmedweeklyrates = fixed(Confirmedweeklyrates),\n",
    "         countries = SelectMultiple(options=Confirmedweeklyrates.columns, value=['Italy', 'Belgium', 'Spain', 'US']),\n",
    "#                                     description='Select countries (Ctrl+ for multi-selection)', \n",
    "#                                     style = {'description_width': 'initial'},\n",
    "#                                     layout=Layout(width='50%', height='200px')),\n",
    "         );"
   ]
  },
  {
   "cell_type": "markdown",
   "metadata": {},
   "source": [
    "Below you can find the code"
   ]
  },
  {
   "cell_type": "markdown",
   "metadata": {
    "heading_collapsed": true
   },
   "source": [
    "# Import modules"
   ]
  },
  {
   "cell_type": "code",
   "execution_count": 1,
   "metadata": {
    "ExecuteTime": {
     "end_time": "2020-04-04T13:00:51.949870Z",
     "start_time": "2020-04-04T13:00:50.088941Z"
    },
    "hidden": true
   },
   "outputs": [],
   "source": [
    "import pandas as pd\n",
    "import numpy as np\n",
    "from scipy.integrate import odeint\n",
    "import matplotlib.pyplot as plt\n",
    "from datetime import datetime,timedelta\n",
    "# from sklearn.metrics import mean_squared_error\n",
    "# from scipy.optimize import curve_fit, fsolve\n",
    "\n",
    "from IPython.display import Image\n",
    "from ipywidgets import interact\n",
    "from ipywidgets import fixed, ToggleButtons, IntSlider, FloatSlider, Dropdown, SelectMultiple, Layout\n",
    "\n",
    "from pandas.tseries.offsets import Week\n",
    "%matplotlib inline"
   ]
  },
  {
   "cell_type": "markdown",
   "metadata": {
    "hidden": true
   },
   "source": [
    "<b> Preface </b>\n",
    "    \n",
    "    Here are being condensed few simple models and data visualization tools that capture my attention in literature. The idea is to play around with it and understand how important is to limit social contact in this period, and also the importance of modelling for understanding and timely actions."
   ]
  },
  {
   "cell_type": "markdown",
   "metadata": {
    "heading_collapsed": true
   },
   "source": [
    "# Load data from JHU"
   ]
  },
  {
   "cell_type": "code",
   "execution_count": 2,
   "metadata": {
    "ExecuteTime": {
     "end_time": "2020-04-04T13:00:51.964815Z",
     "start_time": "2020-04-04T13:00:51.949870Z"
    },
    "hidden": true
   },
   "outputs": [],
   "source": [
    "def loadData(fileName):\n",
    "    data = pd.read_csv(baseURL + fileName) \\\n",
    "             .drop(['Lat', 'Long'], axis=1) #\\\n",
    "#              .melt(id_vars=['Province/State', 'Country/Region'], \n",
    "#                  var_name='date', value_name=columnName) \\\n",
    "#              .astype({'date':'datetime64[ns]', columnName:'Int64'}, \n",
    "#                  errors='ignore')\n",
    "    data['Province/State'].fillna('<all>', inplace=True)\n",
    "#     data[columnName].fillna(0, inplace=True)\n",
    "    return data"
   ]
  },
  {
   "cell_type": "code",
   "execution_count": 3,
   "metadata": {
    "ExecuteTime": {
     "end_time": "2020-04-04T13:00:52.407377Z",
     "start_time": "2020-04-04T13:00:52.400314Z"
    },
    "hidden": true
   },
   "outputs": [],
   "source": [
    "baseURL = \"https://raw.githubusercontent.com/CSSEGISandData/COVID-19/master/csse_covid_19_data/csse_covid_19_time_series/\""
   ]
  },
  {
   "cell_type": "code",
   "execution_count": 4,
   "metadata": {
    "ExecuteTime": {
     "end_time": "2020-04-04T13:00:53.006195Z",
     "start_time": "2020-04-04T13:00:52.699874Z"
    },
    "hidden": true
   },
   "outputs": [],
   "source": [
    "Confirmed = loadData(\"time_series_covid19_confirmed_global.csv\")"
   ]
  },
  {
   "cell_type": "markdown",
   "metadata": {
    "heading_collapsed": true
   },
   "source": [
    "# Structure dataset"
   ]
  },
  {
   "cell_type": "code",
   "execution_count": 5,
   "metadata": {
    "ExecuteTime": {
     "end_time": "2020-04-04T13:00:53.545539Z",
     "start_time": "2020-04-04T13:00:53.527489Z"
    },
    "hidden": true
   },
   "outputs": [],
   "source": [
    "# grouping by country\n",
    "Confirmed = Confirmed.groupby(['Country/Region']).sum()"
   ]
  },
  {
   "cell_type": "code",
   "execution_count": 6,
   "metadata": {
    "ExecuteTime": {
     "end_time": "2020-04-04T13:00:53.794862Z",
     "start_time": "2020-04-04T13:00:53.786411Z"
    },
    "hidden": true
   },
   "outputs": [],
   "source": [
    "Confirmed = Confirmed.T"
   ]
  },
  {
   "cell_type": "code",
   "execution_count": 7,
   "metadata": {
    "ExecuteTime": {
     "end_time": "2020-04-04T13:00:54.061038Z",
     "start_time": "2020-04-04T13:00:54.041033Z"
    },
    "hidden": true
   },
   "outputs": [],
   "source": [
    "Confirmed.index = pd.to_datetime(Confirmed.index)"
   ]
  },
  {
   "cell_type": "markdown",
   "metadata": {
    "heading_collapsed": true
   },
   "source": [
    "# LogLog visualization (when are we on our way out of pandemic)"
   ]
  },
  {
   "cell_type": "markdown",
   "metadata": {
    "hidden": true
   },
   "source": [
    "Inspired by https://t.co/q2AtUQBX5P?amp=1"
   ]
  },
  {
   "cell_type": "code",
   "execution_count": 8,
   "metadata": {
    "ExecuteTime": {
     "end_time": "2020-04-04T13:00:54.877913Z",
     "start_time": "2020-04-04T13:00:54.848064Z"
    },
    "hidden": true
   },
   "outputs": [],
   "source": [
    "Confirmedweeklyrates = (Confirmed - Confirmed.shift(1, freq=Week()).reindex(Confirmed.index)).fillna(value=0)"
   ]
  },
  {
   "cell_type": "code",
   "execution_count": 9,
   "metadata": {
    "ExecuteTime": {
     "end_time": "2020-04-04T13:00:55.174926Z",
     "start_time": "2020-04-04T13:00:55.167307Z"
    },
    "hidden": true
   },
   "outputs": [],
   "source": [
    "def plot_infectionrate(Confirmedweeklyrates, country, return_plot = True, return_df=False):\n",
    "    \"\"\"\n",
    "    Confirmedweeklyrates: rate of infection adjusted from JHU\n",
    "    country: string\n",
    "    \"\"\"\n",
    "    country = list(country)\n",
    "    res = Confirmedweeklyrates[country]\n",
    "    if return_plot is True:\n",
    "        res.plot()\n",
    "    if return_df is True:\n",
    "        return(res);"
   ]
  },
  {
   "cell_type": "code",
   "execution_count": 12,
   "metadata": {
    "ExecuteTime": {
     "end_time": "2020-04-04T13:00:59.041036Z",
     "start_time": "2020-04-04T13:00:59.029364Z"
    },
    "hidden": true
   },
   "outputs": [],
   "source": [
    "def loglog_covid2(Confirmedweeklyrates, countries):\n",
    "    \"\"\"\n",
    "    Confirmed: df adjustedc from JHU\n",
    "    countries: list in columns of Confirmed\n",
    "    \n",
    "    \"\"\"\n",
    "    fig, axes = plt.subplots(figsize=(15,8))\n",
    "    \n",
    "\n",
    "    axes.loglog(Confirmed.sum(axis=1), Confirmedweeklyrates[list(countries)].values, 'o')\n",
    "    axes.legend(countries)\n",
    "    axes.set_title('Loglog')\n",
    "    axes.set_ylabel('Weekly increase of positive cases')\n",
    "    axes.set_xlabel('Total cases globally')\n",
    "    axes.set_xlim([1e4,1e7])"
   ]
  },
  {
   "cell_type": "code",
   "execution_count": null,
   "metadata": {
    "hidden": true
   },
   "outputs": [],
   "source": []
  }
 ],
 "metadata": {
  "kernelspec": {
   "display_name": "Python 3",
   "language": "python",
   "name": "python3"
  },
  "language_info": {
   "codemirror_mode": {
    "name": "ipython",
    "version": 3
   },
   "file_extension": ".py",
   "mimetype": "text/x-python",
   "name": "python",
   "nbconvert_exporter": "python",
   "pygments_lexer": "ipython3",
   "version": "3.7.4"
  },
  "toc": {
   "base_numbering": 1,
   "nav_menu": {},
   "number_sections": true,
   "sideBar": true,
   "skip_h1_title": false,
   "title_cell": "Table of Contents",
   "title_sidebar": "Contents",
   "toc_cell": false,
   "toc_position": {},
   "toc_section_display": true,
   "toc_window_display": false
  }
 },
 "nbformat": 4,
 "nbformat_minor": 2
}
